{
 "cells": [
  {
   "cell_type": "code",
   "execution_count": 1,
   "metadata": {},
   "outputs": [],
   "source": [
    "# Import libraries\n",
    "import pandas as pd\n",
    "import numpy as np\n",
    "\n",
    "import datetime\n",
    "\n",
    "from sklearn.feature_extraction import text, stop_words\n",
    "import requests\n",
    "import string\n",
    "import re\n",
    "from sklearn.feature_extraction.text import CountVectorizer, TfidfVectorizer\n",
    "\n",
    "import nltk\n",
    "from nltk.stem import WordNetLemmatizer\n",
    "\n",
    "from sklearn.linear_model import LogisticRegression\n",
    "from sklearn.model_selection import train_test_split, GridSearchCV, cross_val_score\n",
    "from sklearn.pipeline import Pipeline\n",
    "from sklearn.ensemble import RandomForestClassifier\n",
    "from sklearn.metrics import confusion_matrix, accuracy_score, roc_auc_score\n",
    "\n",
    "from sklearn.ensemble import GradientBoostingClassifier\n",
    "\n",
    "from imblearn.over_sampling import SMOTE\n",
    "\n",
    "import warnings; warnings.simplefilter('ignore')\n",
    "\n",
    "import seaborn as sns\n",
    "import matplotlib.pyplot as plt\n",
    "\n",
    "np.random.seed(42)"
   ]
  },
  {
   "cell_type": "code",
   "execution_count": 2,
   "metadata": {},
   "outputs": [],
   "source": [
    "# Increase size of dataframe\n",
    "pd.set_option('display.max_columns', 1000)\n",
    "pd.set_option('display.max_rows', 5000)"
   ]
  },
  {
   "cell_type": "code",
   "execution_count": 3,
   "metadata": {},
   "outputs": [],
   "source": [
    "# read historical tweets data\n",
    "data = pd.read_csv ('./Aruna/data/historic_tweets_04212019.csv')"
   ]
  },
  {
   "cell_type": "code",
   "execution_count": 4,
   "metadata": {},
   "outputs": [
    {
     "data": {
      "text/html": [
       "<div>\n",
       "<style scoped>\n",
       "    .dataframe tbody tr th:only-of-type {\n",
       "        vertical-align: middle;\n",
       "    }\n",
       "\n",
       "    .dataframe tbody tr th {\n",
       "        vertical-align: top;\n",
       "    }\n",
       "\n",
       "    .dataframe thead th {\n",
       "        text-align: right;\n",
       "    }\n",
       "</style>\n",
       "<table border=\"1\" class=\"dataframe\">\n",
       "  <thead>\n",
       "    <tr style=\"text-align: right;\">\n",
       "      <th></th>\n",
       "      <th>Unnamed: 0</th>\n",
       "      <th>date</th>\n",
       "      <th>geo</th>\n",
       "      <th>hashtags</th>\n",
       "      <th>id</th>\n",
       "      <th>text</th>\n",
       "      <th>type</th>\n",
       "      <th>username</th>\n",
       "    </tr>\n",
       "  </thead>\n",
       "  <tbody>\n",
       "    <tr>\n",
       "      <th>0</th>\n",
       "      <td>0</td>\n",
       "      <td>2019-04-13 23:02:31+00:00</td>\n",
       "      <td>NaN</td>\n",
       "      <td>#RedCross</td>\n",
       "      <td>1117201425581445120</td>\n",
       "      <td>As part of the Stamps Scholars 2019 Natl. Conv...</td>\n",
       "      <td>official</td>\n",
       "      <td>GARedCross</td>\n",
       "    </tr>\n",
       "    <tr>\n",
       "      <th>1</th>\n",
       "      <td>1</td>\n",
       "      <td>2019-04-13 17:29:29+00:00</td>\n",
       "      <td>NaN</td>\n",
       "      <td>NaN</td>\n",
       "      <td>1117117616827641856</td>\n",
       "      <td>Thanks for your support! All eligible donors c...</td>\n",
       "      <td>official</td>\n",
       "      <td>GARedCross</td>\n",
       "    </tr>\n",
       "  </tbody>\n",
       "</table>\n",
       "</div>"
      ],
      "text/plain": [
       "   Unnamed: 0                       date  geo   hashtags                   id  \\\n",
       "0           0  2019-04-13 23:02:31+00:00  NaN  #RedCross  1117201425581445120   \n",
       "1           1  2019-04-13 17:29:29+00:00  NaN        NaN  1117117616827641856   \n",
       "\n",
       "                                                text      type    username  \n",
       "0  As part of the Stamps Scholars 2019 Natl. Conv...  official  GARedCross  \n",
       "1  Thanks for your support! All eligible donors c...  official  GARedCross  "
      ]
     },
     "execution_count": 4,
     "metadata": {},
     "output_type": "execute_result"
    }
   ],
   "source": [
    "# see what the data looks like\n",
    "data.head(2)"
   ]
  },
  {
   "cell_type": "markdown",
   "metadata": {},
   "source": [
    "### Data Cleaning"
   ]
  },
  {
   "cell_type": "code",
   "execution_count": 5,
   "metadata": {},
   "outputs": [],
   "source": [
    "# Identify tweets within Florence time period 9/10-9/30/2018\n",
    "\n",
    "# split date into date and time\n",
    "data['date'] = data['date'].map(lambda x: str(x.split('+')[0]))\n",
    "\n",
    "# convert object to datetime object\n",
    "data['date'] = pd.to_datetime(data['date'])\n",
    "\n",
    "start_date = datetime.datetime(2018,9,10)\n",
    "end_date = datetime.datetime(2018,9,30)\n",
    "\n",
    "data = data[(data['date'] >= start_date) & (data['date'] < end_date)]"
   ]
  },
  {
   "cell_type": "code",
   "execution_count": 6,
   "metadata": {},
   "outputs": [],
   "source": [
    "# drop columns 'Unnamed: 0 'and 'geo'; geo has all null values; hashtags has 50% null values\n",
    "data.drop(columns = ['Unnamed: 0', 'geo', 'hashtags', 'id', 'type', 'username'], inplace=True)"
   ]
  },
  {
   "cell_type": "code",
   "execution_count": 7,
   "metadata": {},
   "outputs": [],
   "source": [
    "# drop rows where text is null\n",
    "data.dropna(subset=['text'], inplace=True) "
   ]
  },
  {
   "cell_type": "code",
   "execution_count": 8,
   "metadata": {},
   "outputs": [],
   "source": [
    "# Drop duplicates\n",
    "data.drop_duplicates(subset=['text'],inplace=True )"
   ]
  },
  {
   "cell_type": "code",
   "execution_count": 9,
   "metadata": {},
   "outputs": [
    {
     "data": {
      "text/plain": [
       "(7693, 2)"
      ]
     },
     "execution_count": 9,
     "metadata": {},
     "output_type": "execute_result"
    }
   ],
   "source": [
    "data.shape"
   ]
  },
  {
   "cell_type": "code",
   "execution_count": 10,
   "metadata": {
    "scrolled": true
   },
   "outputs": [
    {
     "name": "stdout",
     "output_type": "stream",
     "text": [
      "<class 'pandas.core.frame.DataFrame'>\n",
      "Int64Index: 7693 entries, 293 to 142984\n",
      "Data columns (total 2 columns):\n",
      "date    7693 non-null datetime64[ns]\n",
      "text    7693 non-null object\n",
      "dtypes: datetime64[ns](1), object(1)\n",
      "memory usage: 180.3+ KB\n"
     ]
    }
   ],
   "source": [
    "data.info()"
   ]
  },
  {
   "cell_type": "code",
   "execution_count": 11,
   "metadata": {},
   "outputs": [
    {
     "data": {
      "text/html": [
       "<div>\n",
       "<style scoped>\n",
       "    .dataframe tbody tr th:only-of-type {\n",
       "        vertical-align: middle;\n",
       "    }\n",
       "\n",
       "    .dataframe tbody tr th {\n",
       "        vertical-align: top;\n",
       "    }\n",
       "\n",
       "    .dataframe thead th {\n",
       "        text-align: right;\n",
       "    }\n",
       "</style>\n",
       "<table border=\"1\" class=\"dataframe\">\n",
       "  <thead>\n",
       "    <tr style=\"text-align: right;\">\n",
       "      <th></th>\n",
       "      <th>date</th>\n",
       "      <th>text</th>\n",
       "    </tr>\n",
       "  </thead>\n",
       "  <tbody>\n",
       "    <tr>\n",
       "      <th>293</th>\n",
       "      <td>2018-09-28 20:25:39</td>\n",
       "      <td>Thank you to all our #GARedCross volunteers on...</td>\n",
       "    </tr>\n",
       "    <tr>\n",
       "      <th>294</th>\n",
       "      <td>2018-09-28 16:16:55</td>\n",
       "      <td>#RedCross volunteers, Don Dyksterhouse of N.C....</td>\n",
       "    </tr>\n",
       "  </tbody>\n",
       "</table>\n",
       "</div>"
      ],
      "text/plain": [
       "                   date                                               text\n",
       "293 2018-09-28 20:25:39  Thank you to all our #GARedCross volunteers on...\n",
       "294 2018-09-28 16:16:55  #RedCross volunteers, Don Dyksterhouse of N.C...."
      ]
     },
     "execution_count": 11,
     "metadata": {},
     "output_type": "execute_result"
    }
   ],
   "source": [
    "data.head(2)"
   ]
  },
  {
   "cell_type": "markdown",
   "metadata": {},
   "source": [
    "#### data is clean"
   ]
  },
  {
   "cell_type": "markdown",
   "metadata": {},
   "source": [
    "### Prepare data for NLP model"
   ]
  },
  {
   "cell_type": "code",
   "execution_count": 12,
   "metadata": {},
   "outputs": [],
   "source": [
    "# Change case of all words to lower\n",
    "data['text'] = [i.lower() for i in data['text']]"
   ]
  },
  {
   "cell_type": "code",
   "execution_count": 13,
   "metadata": {},
   "outputs": [],
   "source": [
    "# Use Regular Expressions to remove references to indvidual accounts starting with @\n",
    "data['text'] = [re.sub(r'@[A-z0-9]*', r' ', i) \n",
    "                    for i in data['text']];\n",
    "\n",
    "# Use Regular Expressions to remove all punctuations \n",
    "data['text'] = [re.sub('[^A-Za-z0-9#]+', ' ', i) \n",
    "                    for i in data['text']];"
   ]
  },
  {
   "cell_type": "code",
   "execution_count": 14,
   "metadata": {},
   "outputs": [],
   "source": [
    "# Lemmatize the string and then join it back\n",
    "lm = WordNetLemmatizer()\n",
    "data['text'] = [\" \".join([lm.lemmatize(w) for w in i.split()]) \n",
    "                   for i in data['text']];"
   ]
  },
  {
   "cell_type": "markdown",
   "metadata": {},
   "source": [
    "### Identify road closures based on key words"
   ]
  },
  {
   "cell_type": "code",
   "execution_count": 15,
   "metadata": {},
   "outputs": [],
   "source": [
    "# Create a list of words to filter\n",
    "word_list1 = ['road', 'street','rd', 'hwy', 'highway', 'ave', 'avenue','intersection']\n",
    "word_list2 = ['closed','closure', 'blocked', 'flooded']\n",
    "not_word_list = ['lane closed', 'lane closure','cleared', 're opened', 'reopen']"
   ]
  },
  {
   "cell_type": "code",
   "execution_count": 16,
   "metadata": {},
   "outputs": [],
   "source": [
    "data['is_road_closure'] = data['text'].map(lambda x: 1 if ((any(word in x for word in word_list1))\n",
    "                                                           & (any(word in x for word in word_list2))\n",
    "                                                           & (not any(word in x for word in not_word_list))\n",
    "                                                          ) else 0)"
   ]
  },
  {
   "cell_type": "code",
   "execution_count": 17,
   "metadata": {},
   "outputs": [
    {
     "data": {
      "text/plain": [
       "0    7344\n",
       "1     349\n",
       "Name: is_road_closure, dtype: int64"
      ]
     },
     "execution_count": 17,
     "metadata": {},
     "output_type": "execute_result"
    }
   ],
   "source": [
    "data['is_road_closure'].value_counts()"
   ]
  },
  {
   "cell_type": "code",
   "execution_count": 18,
   "metadata": {},
   "outputs": [
    {
     "data": {
      "text/plain": [
       "(349, 3)"
      ]
     },
     "execution_count": 18,
     "metadata": {},
     "output_type": "execute_result"
    }
   ],
   "source": [
    "# Create a new dataframe with only road closure tweets\n",
    "data_closures = data[data['is_road_closure'] == 1]\n",
    "data_closures.shape"
   ]
  },
  {
   "cell_type": "markdown",
   "metadata": {},
   "source": [
    "### Save clean data to csv file"
   ]
  },
  {
   "cell_type": "code",
   "execution_count": 19,
   "metadata": {},
   "outputs": [],
   "source": [
    "data_closures.to_csv('./clean_roadclosure_tweets04252019pm.csv', header = True )"
   ]
  },
  {
   "cell_type": "code",
   "execution_count": 20,
   "metadata": {},
   "outputs": [],
   "source": [
    "data.to_csv('./clean_hist_tweets04252019pm.csv', header = True )"
   ]
  },
  {
   "cell_type": "markdown",
   "metadata": {},
   "source": [
    "## Model Prep"
   ]
  },
  {
   "cell_type": "markdown",
   "metadata": {},
   "source": [
    "#### Create stop_words"
   ]
  },
  {
   "cell_type": "code",
   "execution_count": 21,
   "metadata": {},
   "outputs": [],
   "source": [
    "# Create my_stop_words in case we want to add additional words \n",
    "my_stop_words = list(stop_words.ENGLISH_STOP_WORDS) + ['http','https', 'twitter',\n",
    "                                                       'com', 'pic', 'www', 'florence', 'florencenc',\n",
    "                                                       'hurricaneflorence','ly', 'gov', 'drivenc', 'scwx', 'wsoctv']"
   ]
  },
  {
   "cell_type": "markdown",
   "metadata": {},
   "source": [
    "#### Function to fit model using Pipeline and Gridsearch"
   ]
  },
  {
   "cell_type": "code",
   "execution_count": 22,
   "metadata": {},
   "outputs": [],
   "source": [
    "def model_fit_score(X, y,\n",
    "                    vect_name, vect_type=TfidfVectorizer(),\n",
    "                    model_name='Log_Reg',\n",
    "                    model_type=LogisticRegression(),\n",
    "                    parameters={}):\n",
    "\n",
    "    pipe = Pipeline([\n",
    "        (vect_name,vect_type),\n",
    "        (model_name, model_type)])\n",
    "    \n",
    "    # perform gridsearch\n",
    "    grid = GridSearchCV(pipe, param_grid=parameters, scoring='roc_auc', cv=3)\n",
    "    grid = grid.fit(X, y)\n",
    "\n",
    "    # Print best attributes\n",
    "    print(f\"For model: {model_name}\")\n",
    "    print(\"-\" * 40)\n",
    "    print(f\"The best parameters are: \\n {grid.best_params_}\")\n",
    "    print(\"-\" * 40)\n",
    "    print(f\"The best score is: \\n {grid.best_score_:.4f}\")\n",
    "    print(\"-\" * 40)\n",
    "    \n",
    "    return grid"
   ]
  },
  {
   "cell_type": "markdown",
   "metadata": {},
   "source": [
    "#### Function to generate confusion matrix"
   ]
  },
  {
   "cell_type": "code",
   "execution_count": 23,
   "metadata": {},
   "outputs": [],
   "source": [
    "# from Stack overflow\n",
    "def plot_confusion_matrix(cm, target_names, title='Confusion matrix', cmap=plt.cm.Blues):\n",
    "    \n",
    "    plt.imshow(cm, interpolation='nearest', cmap=cmap)\n",
    "    plt.title(title)\n",
    "    plt.colorbar()\n",
    "    \n",
    "    tick_marks = np.arange(len(target_names))\n",
    "    plt.xticks(tick_marks, target_names, rotation=45)\n",
    "    plt.yticks(tick_marks, target_names)\n",
    "    plt.tight_layout()\n",
    "\n",
    "    width, height = cm.shape\n",
    "\n",
    "    for x in range(width):\n",
    "        for y in range(height):\n",
    "            plt.annotate(str(cm[x][y]), xy=(y, x), \n",
    "                        horizontalalignment='center',\n",
    "                        verticalalignment='center')\n",
    "    plt.ylabel('True label')\n",
    "    plt.xlabel('Predicted label')"
   ]
  },
  {
   "cell_type": "markdown",
   "metadata": {},
   "source": [
    "#### Function to predict based on a text"
   ]
  },
  {
   "cell_type": "code",
   "execution_count": 24,
   "metadata": {},
   "outputs": [],
   "source": [
    "# from Matt Parker\n",
    "def Probaplot(string,class_1, class_0, model):\n",
    "    print_dict = {1:class_1,0:class_0}\n",
    "    df = pd.DataFrame(model.predict_proba([string]),columns= [class_0,class_1],index = [\"Probability\"]).T\n",
    "    f,ax = plt.subplots(figsize=(8,5))\n",
    "    sns.barplot(y = df[\"Probability\"],x=df.index,ax=ax)\n",
    "    plt.title(string,fontsize=20)"
   ]
  },
  {
   "cell_type": "markdown",
   "metadata": {},
   "source": [
    "#### Function to calculate sensitivity and specificity"
   ]
  },
  {
   "cell_type": "code",
   "execution_count": 25,
   "metadata": {},
   "outputs": [
    {
     "data": {
      "text/plain": [
       "<Figure size 720x504 with 0 Axes>"
      ]
     },
     "metadata": {},
     "output_type": "display_data"
    }
   ],
   "source": [
    "# Create figure.\n",
    "plt.figure(figsize = (10,7))\n",
    "\n",
    "# Create threshold values. (Dashed red line in image.)\n",
    "thresholds = np.linspace(0, 1, 200)\n",
    "\n",
    "# Define function to calculate sensitivity. (True positive rate.)\n",
    "def TPR(df, true_col, pred_prob_col, threshold):\n",
    "    true_positive = df[(df[true_col] == 1) & (df[pred_prob_col] >= threshold)].shape[0]\n",
    "    false_negative = df[(df[true_col] == 1) & (df[pred_prob_col] < threshold)].shape[0]\n",
    "    return true_positive / (true_positive + false_negative)\n",
    "    \n",
    "\n",
    "# Define function to calculate 1 - specificity. (False positive rate.)\n",
    "def FPR(df, true_col, pred_prob_col, threshold):\n",
    "    true_negative = df[(df[true_col] == 0) & (df[pred_prob_col] <= threshold)].shape[0]\n",
    "    false_positive = df[(df[true_col] == 0) & (df[pred_prob_col] > threshold)].shape[0]\n",
    "    return 1 - (true_negative / (true_negative + false_positive))"
   ]
  },
  {
   "cell_type": "markdown",
   "metadata": {},
   "source": [
    "#### Calculate Baseline Accuracy"
   ]
  },
  {
   "cell_type": "code",
   "execution_count": 29,
   "metadata": {},
   "outputs": [
    {
     "data": {
      "text/plain": [
       "0    7344\n",
       "1     349\n",
       "Name: is_road_closure, dtype: int64"
      ]
     },
     "execution_count": 29,
     "metadata": {},
     "output_type": "execute_result"
    }
   ],
   "source": [
    "data['is_road_closure'].value_counts()"
   ]
  },
  {
   "cell_type": "markdown",
   "metadata": {},
   "source": [
    "#### Perform train-test split on DATA "
   ]
  },
  {
   "cell_type": "code",
   "execution_count": 30,
   "metadata": {},
   "outputs": [],
   "source": [
    "# Define features, X, and y\n",
    "features = ['text']\n",
    "X = data[features]\n",
    "y = data['is_road_closure']"
   ]
  },
  {
   "cell_type": "code",
   "execution_count": 31,
   "metadata": {},
   "outputs": [],
   "source": [
    "# Perform train_test_split\n",
    "X_train, X_test, y_train, y_test = train_test_split(X,\n",
    "                                                    y,\n",
    "                                                    test_size=0.25,\n",
    "                                                    stratify=y)"
   ]
  },
  {
   "cell_type": "raw",
   "metadata": {},
   "source": [
    "# find optimal parameters\n",
    "params_vec = {\n",
    "    'vec__max_features': [200, 500, 1000],\n",
    "    'vec__min_df': [.01, .02],\n",
    "    'vec__max_df': [.8, .95],\n",
    "    'vec__ngram_range': [(1,2), (1,3), (1,4), (2,2), (2,3), (2,4)],\n",
    "    'vec__stop_words': [my_stop_words]}\n",
    "\n",
    "params_Log_Reg = {\n",
    "    'Log_Reg__penalty': ['l1', 'l2'],\n",
    "    'Log_Reg__C': [1.0]}\n",
    "    \n",
    "params_gb = {\n",
    "    'gb__learning_rate': [0.1, 0.2, 0.5],\n",
    "    'gb__n_estimators': [50, 100, 200, 500],\n",
    "    'gb__min_samples_split': [2, 3, 5],\n",
    "    'gb__min_samples_leaf': [1],\n",
    "    'gb__max_depth': [2, 3, 5]}"
   ]
  },
  {
   "cell_type": "code",
   "execution_count": 32,
   "metadata": {},
   "outputs": [],
   "source": [
    "# Hardcoding optimal parameters so the code runs faster\n",
    "params_vec = {\n",
    "    'vec__max_features': [200],\n",
    "    'vec__min_df': [.01],\n",
    "    'vec__max_df': [.8],\n",
    "    'vec__ngram_range': [(1,2)],\n",
    "    'vec__stop_words': [my_stop_words]}\n",
    "\n",
    "params_Log_Reg = {\n",
    "    'Log_Reg__penalty': ['l1'],\n",
    "    'Log_Reg__C': [1.0]}\n",
    "\n",
    "params_gb = {\n",
    "    'gb__learning_rate': [0.1],\n",
    "    'gb__n_estimators': [200],\n",
    "    'gb__max_depth': [5],\n",
    "    'gb__min_samples_leaf': [1],\n",
    "    'gb__min_samples_split': [2]}\n",
    "    \n",
    "params_sm = {\n",
    "    'sm__kind': 'regular',\n",
    "    'sm__sampling_strategy': [0.45],\n",
    "    'sm__k_neighbors': [6]}"
   ]
  },
  {
   "cell_type": "markdown",
   "metadata": {},
   "source": [
    "### Optimize Model 1: Logistic Regression, CountVectorizer"
   ]
  },
  {
   "cell_type": "code",
   "execution_count": 33,
   "metadata": {},
   "outputs": [
    {
     "name": "stdout",
     "output_type": "stream",
     "text": [
      "For model: Log_Reg\n",
      "----------------------------------------\n",
      "The best parameters are: \n",
      " {'Log_Reg__C': 1.0, 'Log_Reg__penalty': 'l1', 'vec__max_df': 0.8, 'vec__max_features': 200, 'vec__min_df': 0.01, 'vec__ngram_range': (1, 2), 'vec__stop_words': ['should', 'during', 'amoungst', 'also', 'keep', 'on', 'moreover', 'three', 'un', 'other', 'six', 'when', 'together', 'five', 'amount', 'wherever', 'hereafter', 'might', 'neither', 'whereby', 'by', 'hereupon', 'interest', 'same', 'etc', 'who', 'next', 'toward', 'forty', 'ourselves', 'which', 'go', 'anywhere', 'hence', 'you', 'hasnt', 'are', 'con', 'become', 'him', 'am', 'eleven', 'most', 'elsewhere', 'these', 'whether', 're', 'give', 'front', 'within', 'name', 'part', 'and', 'up', 'while', 'do', 'somehow', 'thus', 'move', 'since', 'cannot', 'none', 'one', 'due', 'yet', 'whither', 'to', 'done', 'inc', 'that', 'towards', 'now', 'nobody', 'everything', 'being', 'once', 'alone', 'herein', 'is', 'else', 'each', 'until', 'he', 'several', 'whole', 'twenty', 'becoming', 'how', 'still', 'amongst', 'always', 'she', 'the', 'throughout', 'someone', 'few', 'thin', 'beyond', 'from', 'those', 'third', 'with', 'seemed', 'then', 'rather', 'only', 'bottom', 'fifteen', 'bill', 'seems', 'indeed', 'thereafter', 'made', 'through', 'least', 'serious', 'everywhere', 'although', 'without', 'therein', 'fire', 'enough', 'fill', 'some', 'every', 'there', 'were', 'side', 'former', 'whoever', 'as', 'full', 'before', 'ltd', 'of', 'ours', 'could', 'besides', 'your', 'nowhere', 'very', 'find', 'if', 'not', 'myself', 'eight', 'it', 'nevertheless', 'whatever', 'such', 'sincere', 'in', 'thick', 'wherein', 'even', 'behind', 'its', 'call', 'latterly', 'here', 'fifty', 'top', 'i', 'around', 'get', 'something', 'others', 'an', 'however', 'what', 'co', 'would', 'be', 'about', 'whence', 'their', 'after', 'thereby', 'perhaps', 'hundred', 'otherwise', 'many', 'mine', 'ten', 'whom', 'any', 'but', 'four', 'last', 'two', 'between', 'will', 'sometimes', 'nothing', 'upon', 'than', 'further', 'afterwards', 'may', 'her', 'per', 'below', 'almost', 'ever', 'everyone', 'no', 'over', 'sometime', 'at', 'his', 'anyhow', 'into', 'they', 'for', 'never', 'yourself', 'beside', 'herself', 'except', 'put', 'often', 'yours', 'has', 'either', 'or', 'why', 'us', 'meanwhile', 'formerly', 'because', 'out', 'my', 'found', 'somewhere', 'anyone', 'under', 'again', 'detail', 'seeming', 'had', 'above', 'though', 'so', 'nor', 'down', 'yourselves', 'eg', 'thereupon', 'twelve', 'against', 'was', 'de', 'our', 'mill', 'along', 'hers', 'this', 'ie', 'well', 'himself', 'onto', 'back', 'hereby', 'must', 'latter', 'all', 'whose', 'themselves', 'beforehand', 'have', 'me', 'therefore', 'see', 'whereafter', 'less', 'thru', 'much', 'own', 'namely', 'please', 'via', 'whereas', 'mostly', 'where', 'anything', 'becomes', 'itself', 'more', 'anyway', 'first', 'empty', 'noone', 'been', 'couldnt', 'seem', 'off', 'cry', 'across', 'thence', 'whenever', 'system', 'nine', 'them', 'became', 'take', 'both', 'a', 'whereupon', 'can', 'already', 'describe', 'sixty', 'another', 'among', 'too', 'cant', 'we', 'show', 'http', 'https', 'twitter', 'com', 'pic', 'www', 'florence', 'florencenc', 'hurricaneflorence', 'ly', 'gov', 'drivenc', 'scwx', 'wsoctv']}\n",
      "----------------------------------------\n",
      "The best score is: \n",
      " 0.9795\n",
      "----------------------------------------\n",
      "Train set Score: \n",
      " 0.9894416128258692\n",
      "Test set Score: \n",
      " 0.968977405690187\n"
     ]
    }
   ],
   "source": [
    "# Call function to fit the model\n",
    "Log_Reg_cvec = model_fit_score(X_train['text'], y_train,         \n",
    "                vect_name = 'vec',\n",
    "                vect_type = CountVectorizer(),               \n",
    "                model_name ='Log_Reg',          \n",
    "                model_type = LogisticRegression(),\n",
    "                parameters = {**params_vec, **params_Log_Reg})\n",
    "\n",
    "# Print Training and Test scores \n",
    "print(f\"Train set Score: \\n {Log_Reg_cvec.score(X_train['text'], y_train)}\")\n",
    "print(f\"Test set Score: \\n {Log_Reg_cvec.score(X_test['text'], y_test)}\")"
   ]
  },
  {
   "cell_type": "markdown",
   "metadata": {},
   "source": [
    "### Optimize Model 2: Logistic Regression, TfidfVectorizer"
   ]
  },
  {
   "cell_type": "code",
   "execution_count": 34,
   "metadata": {},
   "outputs": [
    {
     "name": "stdout",
     "output_type": "stream",
     "text": [
      "For model: Log_Reg\n",
      "----------------------------------------\n",
      "The best parameters are: \n",
      " {'Log_Reg__C': 1.0, 'Log_Reg__penalty': 'l1', 'vec__max_df': 0.8, 'vec__max_features': 200, 'vec__min_df': 0.01, 'vec__ngram_range': (1, 2), 'vec__stop_words': ['should', 'during', 'amoungst', 'also', 'keep', 'on', 'moreover', 'three', 'un', 'other', 'six', 'when', 'together', 'five', 'amount', 'wherever', 'hereafter', 'might', 'neither', 'whereby', 'by', 'hereupon', 'interest', 'same', 'etc', 'who', 'next', 'toward', 'forty', 'ourselves', 'which', 'go', 'anywhere', 'hence', 'you', 'hasnt', 'are', 'con', 'become', 'him', 'am', 'eleven', 'most', 'elsewhere', 'these', 'whether', 're', 'give', 'front', 'within', 'name', 'part', 'and', 'up', 'while', 'do', 'somehow', 'thus', 'move', 'since', 'cannot', 'none', 'one', 'due', 'yet', 'whither', 'to', 'done', 'inc', 'that', 'towards', 'now', 'nobody', 'everything', 'being', 'once', 'alone', 'herein', 'is', 'else', 'each', 'until', 'he', 'several', 'whole', 'twenty', 'becoming', 'how', 'still', 'amongst', 'always', 'she', 'the', 'throughout', 'someone', 'few', 'thin', 'beyond', 'from', 'those', 'third', 'with', 'seemed', 'then', 'rather', 'only', 'bottom', 'fifteen', 'bill', 'seems', 'indeed', 'thereafter', 'made', 'through', 'least', 'serious', 'everywhere', 'although', 'without', 'therein', 'fire', 'enough', 'fill', 'some', 'every', 'there', 'were', 'side', 'former', 'whoever', 'as', 'full', 'before', 'ltd', 'of', 'ours', 'could', 'besides', 'your', 'nowhere', 'very', 'find', 'if', 'not', 'myself', 'eight', 'it', 'nevertheless', 'whatever', 'such', 'sincere', 'in', 'thick', 'wherein', 'even', 'behind', 'its', 'call', 'latterly', 'here', 'fifty', 'top', 'i', 'around', 'get', 'something', 'others', 'an', 'however', 'what', 'co', 'would', 'be', 'about', 'whence', 'their', 'after', 'thereby', 'perhaps', 'hundred', 'otherwise', 'many', 'mine', 'ten', 'whom', 'any', 'but', 'four', 'last', 'two', 'between', 'will', 'sometimes', 'nothing', 'upon', 'than', 'further', 'afterwards', 'may', 'her', 'per', 'below', 'almost', 'ever', 'everyone', 'no', 'over', 'sometime', 'at', 'his', 'anyhow', 'into', 'they', 'for', 'never', 'yourself', 'beside', 'herself', 'except', 'put', 'often', 'yours', 'has', 'either', 'or', 'why', 'us', 'meanwhile', 'formerly', 'because', 'out', 'my', 'found', 'somewhere', 'anyone', 'under', 'again', 'detail', 'seeming', 'had', 'above', 'though', 'so', 'nor', 'down', 'yourselves', 'eg', 'thereupon', 'twelve', 'against', 'was', 'de', 'our', 'mill', 'along', 'hers', 'this', 'ie', 'well', 'himself', 'onto', 'back', 'hereby', 'must', 'latter', 'all', 'whose', 'themselves', 'beforehand', 'have', 'me', 'therefore', 'see', 'whereafter', 'less', 'thru', 'much', 'own', 'namely', 'please', 'via', 'whereas', 'mostly', 'where', 'anything', 'becomes', 'itself', 'more', 'anyway', 'first', 'empty', 'noone', 'been', 'couldnt', 'seem', 'off', 'cry', 'across', 'thence', 'whenever', 'system', 'nine', 'them', 'became', 'take', 'both', 'a', 'whereupon', 'can', 'already', 'describe', 'sixty', 'another', 'among', 'too', 'cant', 'we', 'show', 'http', 'https', 'twitter', 'com', 'pic', 'www', 'florence', 'florencenc', 'hurricaneflorence', 'ly', 'gov', 'drivenc', 'scwx', 'wsoctv']}\n",
      "----------------------------------------\n",
      "The best score is: \n",
      " 0.9807\n",
      "----------------------------------------\n",
      "Train set Score: \n",
      " 0.9867323614497581\n",
      "Test set Score: \n",
      " 0.9801775758827174\n"
     ]
    }
   ],
   "source": [
    "# Call function to fit the model\n",
    "Log_Reg_tvec = model_fit_score(X_train['text'], y_train,         \n",
    "                vect_name = 'vec',\n",
    "                vect_type = TfidfVectorizer(),               \n",
    "                model_name ='Log_Reg',          \n",
    "                model_type = LogisticRegression(),\n",
    "                parameters = {**params_vec, **params_Log_Reg})\n",
    "\n",
    "# Print Training and Test scores \n",
    "print(f\"Train set Score: \\n {Log_Reg_tvec.score(X_train['text'], y_train)}\")\n",
    "print(f\"Test set Score: \\n {Log_Reg_tvec.score(X_test['text'], y_test)}\")"
   ]
  },
  {
   "cell_type": "markdown",
   "metadata": {},
   "source": [
    "#### Print confusion matrix"
   ]
  },
  {
   "cell_type": "code",
   "execution_count": 35,
   "metadata": {},
   "outputs": [
    {
     "name": "stdout",
     "output_type": "stream",
     "text": [
      "ROC AUC score: 0.7712349595479886\n"
     ]
    },
    {
     "data": {
      "image/png": "[encoded data removed]",
      "text/plain": [
       "<Figure size 432x288 with 2 Axes>"
      ]
     },
     "metadata": {
      "needs_background": "light"
     },
     "output_type": "display_data"
    }
   ],
   "source": [
    "model_name = Log_Reg_tvec\n",
    "\n",
    "# Generate predictions\n",
    "y_pred = (model_name.predict(X_test['text'])) \n",
    "y_test.shape\n",
    "y_pred.shape\n",
    "\n",
    "# Calculate ROC AUC and Accuracy scores\n",
    "print(f\"ROC AUC score: {roc_auc_score(y_test, y_pred)}\")\n",
    "\n",
    "# # Plot confusion matrix\n",
    "plt.figure()\n",
    "cm = confusion_matrix(y_test, y_pred)\n",
    "plot_confusion_matrix(cm, ['not_road_closure','is_road_closure']);"
   ]
  },
  {
   "cell_type": "markdown",
   "metadata": {},
   "source": [
    "#### Plot ROC AUC curve"
   ]
  },
  {
   "cell_type": "code",
   "execution_count": 36,
   "metadata": {},
   "outputs": [
    {
     "data": {
      "image/png": "[encoded data removed]",
      "text/plain": [
       "<Figure size 432x288 with 1 Axes>"
      ]
     },
     "metadata": {
      "needs_background": "light"
     },
     "output_type": "display_data"
    }
   ],
   "source": [
    "# calculate predicted probabilities\n",
    "pred_proba = [i[1] for i in Log_Reg_tvec.predict_proba(X_test['text'])]\n",
    "\n",
    "pred_df = pd.DataFrame({'true_values': y_test,\n",
    "                        'pred_probs':pred_proba})\n",
    "    \n",
    "# Calculate sensitivity & 1-specificity for each threshold between 0 and 1.\n",
    "tpr_values = [TPR(pred_df, 'true_values', 'pred_probs', prob) for prob in thresholds]\n",
    "fpr_values = [FPR(pred_df, 'true_values', 'pred_probs', prob) for prob in thresholds]\n",
    "\n",
    "# Plot ROC curve.\n",
    "plt.plot(fpr_values, # False Positive Rate on X-axis\n",
    "         tpr_values, # True Positive Rate on Y-axis\n",
    "         label='ROC Curve')\n",
    "\n",
    "# Plot baseline. (Perfect overlap between the two populations.)\n",
    "plt.plot(np.linspace(0, 1, 200),\n",
    "         np.linspace(0, 1, 200),\n",
    "         label='baseline',\n",
    "         linestyle='--')\n",
    "\n",
    "# Label axes.\n",
    "# plt.title(f'ROC Curve with AUC = {round(roc_auc_score(pred_df['true_values'], pred_df['pred_probs']),3)}', fontsize=22)\n",
    "plt.ylabel('Sensitivity', fontsize=18)\n",
    "plt.xlabel('1 - Specificity', fontsize=18)\n",
    "\n",
    "# Create legend.\n",
    "plt.legend(fontsize=16);"
   ]
  },
  {
   "cell_type": "markdown",
   "metadata": {},
   "source": [
    "### Optimize Model 3: Gradient Boosting, CountVectorizer"
   ]
  },
  {
   "cell_type": "code",
   "execution_count": 37,
   "metadata": {},
   "outputs": [
    {
     "name": "stdout",
     "output_type": "stream",
     "text": [
      "For model: gb\n",
      "----------------------------------------\n",
      "The best parameters are: \n",
      " {'gb__learning_rate': 0.1, 'gb__max_depth': 5, 'gb__min_samples_leaf': 1, 'gb__min_samples_split': 2, 'gb__n_estimators': 200, 'vec__max_df': 0.8, 'vec__max_features': 200, 'vec__min_df': 0.01, 'vec__ngram_range': (1, 2), 'vec__stop_words': ['should', 'during', 'amoungst', 'also', 'keep', 'on', 'moreover', 'three', 'un', 'other', 'six', 'when', 'together', 'five', 'amount', 'wherever', 'hereafter', 'might', 'neither', 'whereby', 'by', 'hereupon', 'interest', 'same', 'etc', 'who', 'next', 'toward', 'forty', 'ourselves', 'which', 'go', 'anywhere', 'hence', 'you', 'hasnt', 'are', 'con', 'become', 'him', 'am', 'eleven', 'most', 'elsewhere', 'these', 'whether', 're', 'give', 'front', 'within', 'name', 'part', 'and', 'up', 'while', 'do', 'somehow', 'thus', 'move', 'since', 'cannot', 'none', 'one', 'due', 'yet', 'whither', 'to', 'done', 'inc', 'that', 'towards', 'now', 'nobody', 'everything', 'being', 'once', 'alone', 'herein', 'is', 'else', 'each', 'until', 'he', 'several', 'whole', 'twenty', 'becoming', 'how', 'still', 'amongst', 'always', 'she', 'the', 'throughout', 'someone', 'few', 'thin', 'beyond', 'from', 'those', 'third', 'with', 'seemed', 'then', 'rather', 'only', 'bottom', 'fifteen', 'bill', 'seems', 'indeed', 'thereafter', 'made', 'through', 'least', 'serious', 'everywhere', 'although', 'without', 'therein', 'fire', 'enough', 'fill', 'some', 'every', 'there', 'were', 'side', 'former', 'whoever', 'as', 'full', 'before', 'ltd', 'of', 'ours', 'could', 'besides', 'your', 'nowhere', 'very', 'find', 'if', 'not', 'myself', 'eight', 'it', 'nevertheless', 'whatever', 'such', 'sincere', 'in', 'thick', 'wherein', 'even', 'behind', 'its', 'call', 'latterly', 'here', 'fifty', 'top', 'i', 'around', 'get', 'something', 'others', 'an', 'however', 'what', 'co', 'would', 'be', 'about', 'whence', 'their', 'after', 'thereby', 'perhaps', 'hundred', 'otherwise', 'many', 'mine', 'ten', 'whom', 'any', 'but', 'four', 'last', 'two', 'between', 'will', 'sometimes', 'nothing', 'upon', 'than', 'further', 'afterwards', 'may', 'her', 'per', 'below', 'almost', 'ever', 'everyone', 'no', 'over', 'sometime', 'at', 'his', 'anyhow', 'into', 'they', 'for', 'never', 'yourself', 'beside', 'herself', 'except', 'put', 'often', 'yours', 'has', 'either', 'or', 'why', 'us', 'meanwhile', 'formerly', 'because', 'out', 'my', 'found', 'somewhere', 'anyone', 'under', 'again', 'detail', 'seeming', 'had', 'above', 'though', 'so', 'nor', 'down', 'yourselves', 'eg', 'thereupon', 'twelve', 'against', 'was', 'de', 'our', 'mill', 'along', 'hers', 'this', 'ie', 'well', 'himself', 'onto', 'back', 'hereby', 'must', 'latter', 'all', 'whose', 'themselves', 'beforehand', 'have', 'me', 'therefore', 'see', 'whereafter', 'less', 'thru', 'much', 'own', 'namely', 'please', 'via', 'whereas', 'mostly', 'where', 'anything', 'becomes', 'itself', 'more', 'anyway', 'first', 'empty', 'noone', 'been', 'couldnt', 'seem', 'off', 'cry', 'across', 'thence', 'whenever', 'system', 'nine', 'them', 'became', 'take', 'both', 'a', 'whereupon', 'can', 'already', 'describe', 'sixty', 'another', 'among', 'too', 'cant', 'we', 'show', 'http', 'https', 'twitter', 'com', 'pic', 'www', 'florence', 'florencenc', 'hurricaneflorence', 'ly', 'gov', 'drivenc', 'scwx', 'wsoctv']}\n",
      "----------------------------------------\n",
      "The best score is: \n",
      " 0.9859\n",
      "----------------------------------------\n",
      "Train set Score: \n",
      " 0.9994691003954717\n",
      "Test set Score: \n",
      " 0.9847796569869666\n"
     ]
    }
   ],
   "source": [
    "# Call function to fit the model\n",
    "gb_cvec = model_fit_score(X_train['text'], y_train,         \n",
    "                vect_name = 'vec',\n",
    "                vect_type = CountVectorizer(),               \n",
    "                model_name ='gb',          \n",
    "                model_type = GradientBoostingClassifier(),\n",
    "                parameters = {**params_vec, **params_gb})\n",
    "\n",
    "# Print Training and Test scores \n",
    "print(f\"Train set Score: \\n {gb_cvec.score(X_train['text'], y_train)}\")\n",
    "print(f\"Test set Score: \\n {gb_cvec.score(X_test['text'], y_test)}\")"
   ]
  },
  {
   "cell_type": "markdown",
   "metadata": {},
   "source": [
    "### Optimize Model 4: Gradient Boosting, TfidfVectorizer"
   ]
  },
  {
   "cell_type": "code",
   "execution_count": 38,
   "metadata": {},
   "outputs": [
    {
     "name": "stdout",
     "output_type": "stream",
     "text": [
      "For model: gb\n",
      "----------------------------------------\n",
      "The best parameters are: \n",
      " {'gb__learning_rate': 0.1, 'gb__max_depth': 5, 'gb__min_samples_leaf': 1, 'gb__min_samples_split': 2, 'gb__n_estimators': 200, 'vec__max_df': 0.8, 'vec__max_features': 200, 'vec__min_df': 0.01, 'vec__ngram_range': (1, 2), 'vec__stop_words': ['should', 'during', 'amoungst', 'also', 'keep', 'on', 'moreover', 'three', 'un', 'other', 'six', 'when', 'together', 'five', 'amount', 'wherever', 'hereafter', 'might', 'neither', 'whereby', 'by', 'hereupon', 'interest', 'same', 'etc', 'who', 'next', 'toward', 'forty', 'ourselves', 'which', 'go', 'anywhere', 'hence', 'you', 'hasnt', 'are', 'con', 'become', 'him', 'am', 'eleven', 'most', 'elsewhere', 'these', 'whether', 're', 'give', 'front', 'within', 'name', 'part', 'and', 'up', 'while', 'do', 'somehow', 'thus', 'move', 'since', 'cannot', 'none', 'one', 'due', 'yet', 'whither', 'to', 'done', 'inc', 'that', 'towards', 'now', 'nobody', 'everything', 'being', 'once', 'alone', 'herein', 'is', 'else', 'each', 'until', 'he', 'several', 'whole', 'twenty', 'becoming', 'how', 'still', 'amongst', 'always', 'she', 'the', 'throughout', 'someone', 'few', 'thin', 'beyond', 'from', 'those', 'third', 'with', 'seemed', 'then', 'rather', 'only', 'bottom', 'fifteen', 'bill', 'seems', 'indeed', 'thereafter', 'made', 'through', 'least', 'serious', 'everywhere', 'although', 'without', 'therein', 'fire', 'enough', 'fill', 'some', 'every', 'there', 'were', 'side', 'former', 'whoever', 'as', 'full', 'before', 'ltd', 'of', 'ours', 'could', 'besides', 'your', 'nowhere', 'very', 'find', 'if', 'not', 'myself', 'eight', 'it', 'nevertheless', 'whatever', 'such', 'sincere', 'in', 'thick', 'wherein', 'even', 'behind', 'its', 'call', 'latterly', 'here', 'fifty', 'top', 'i', 'around', 'get', 'something', 'others', 'an', 'however', 'what', 'co', 'would', 'be', 'about', 'whence', 'their', 'after', 'thereby', 'perhaps', 'hundred', 'otherwise', 'many', 'mine', 'ten', 'whom', 'any', 'but', 'four', 'last', 'two', 'between', 'will', 'sometimes', 'nothing', 'upon', 'than', 'further', 'afterwards', 'may', 'her', 'per', 'below', 'almost', 'ever', 'everyone', 'no', 'over', 'sometime', 'at', 'his', 'anyhow', 'into', 'they', 'for', 'never', 'yourself', 'beside', 'herself', 'except', 'put', 'often', 'yours', 'has', 'either', 'or', 'why', 'us', 'meanwhile', 'formerly', 'because', 'out', 'my', 'found', 'somewhere', 'anyone', 'under', 'again', 'detail', 'seeming', 'had', 'above', 'though', 'so', 'nor', 'down', 'yourselves', 'eg', 'thereupon', 'twelve', 'against', 'was', 'de', 'our', 'mill', 'along', 'hers', 'this', 'ie', 'well', 'himself', 'onto', 'back', 'hereby', 'must', 'latter', 'all', 'whose', 'themselves', 'beforehand', 'have', 'me', 'therefore', 'see', 'whereafter', 'less', 'thru', 'much', 'own', 'namely', 'please', 'via', 'whereas', 'mostly', 'where', 'anything', 'becomes', 'itself', 'more', 'anyway', 'first', 'empty', 'noone', 'been', 'couldnt', 'seem', 'off', 'cry', 'across', 'thence', 'whenever', 'system', 'nine', 'them', 'became', 'take', 'both', 'a', 'whereupon', 'can', 'already', 'describe', 'sixty', 'another', 'among', 'too', 'cant', 'we', 'show', 'http', 'https', 'twitter', 'com', 'pic', 'www', 'florence', 'florencenc', 'hurricaneflorence', 'ly', 'gov', 'drivenc', 'scwx', 'wsoctv']}\n",
      "----------------------------------------\n",
      "The best score is: \n",
      " 0.9881\n",
      "----------------------------------------\n",
      "Train set Score: \n",
      " 0.9998960379364501\n",
      "Test set Score: \n",
      " 0.983766010299151\n"
     ]
    }
   ],
   "source": [
    "# Call function to fit the model\n",
    "gb_tvec = model_fit_score(X_train['text'], y_train,         \n",
    "                vect_name = 'vec',\n",
    "                vect_type = TfidfVectorizer(),               \n",
    "                model_name ='gb',          \n",
    "                model_type = GradientBoostingClassifier(),\n",
    "                parameters = {**params_vec, **params_gb})\n",
    "\n",
    "# Print Training and Test scores \n",
    "print(f\"Train set Score: \\n {gb_tvec.score(X_train['text'], y_train)}\")\n",
    "print(f\"Test set Score: \\n {gb_tvec.score(X_test['text'], y_test)}\")"
   ]
  },
  {
   "cell_type": "markdown",
   "metadata": {},
   "source": [
    "#### Print confusion matrix"
   ]
  },
  {
   "cell_type": "code",
   "execution_count": 39,
   "metadata": {},
   "outputs": [
    {
     "name": "stdout",
     "output_type": "stream",
     "text": [
      "ROC AUC score: 0.8793416302191854\n"
     ]
    },
    {
     "data": {
      "image/png": "[encoded data removed]",
      "text/plain": [
       "<Figure size 432x288 with 2 Axes>"
      ]
     },
     "metadata": {
      "needs_background": "light"
     },
     "output_type": "display_data"
    }
   ],
   "source": [
    "model_name = gb_tvec\n",
    "\n",
    "# Generate predictions\n",
    "y_pred = (model_name.predict(X_test['text'])) \n",
    "y_test.shape\n",
    "y_pred.shape\n",
    "\n",
    "# Calculate ROC AUC and Accuracy scores\n",
    "print(f\"ROC AUC score: {roc_auc_score(y_test, y_pred)}\")\n",
    "\n",
    "# # Plot confusion matrix\n",
    "plt.figure()\n",
    "cm = confusion_matrix(y_test, y_pred)\n",
    "plot_confusion_matrix(cm, ['not_road_closure','is_road_closure']);\n"
   ]
  },
  {
   "cell_type": "markdown",
   "metadata": {},
   "source": [
    "#### Plot ROC AUC curve"
   ]
  },
  {
   "cell_type": "code",
   "execution_count": null,
   "metadata": {},
   "outputs": [],
   "source": [
    "# calculate predicted probabilities\n",
    "pred_proba = [i[1] for i in gb_tvec.predict_proba(X_test['text'])]\n",
    "\n",
    "pred_df = pd.DataFrame({'true_values': y_test,\n",
    "                        'pred_probs':pred_proba})\n",
    "    \n",
    "# Calculate sensitivity & 1-specificity for each threshold between 0 and 1.\n",
    "tpr_values = [TPR(pred_df, 'true_values', 'pred_probs', prob) for prob in thresholds]\n",
    "fpr_values = [FPR(pred_df, 'true_values', 'pred_probs', prob) for prob in thresholds]\n",
    "\n",
    "# Plot ROC curve.\n",
    "plt.plot(fpr_values, # False Positive Rate on X-axis\n",
    "         tpr_values, # True Positive Rate on Y-axis\n",
    "         label='ROC Curve')\n",
    "\n",
    "# Plot baseline. (Perfect overlap between the two populations.)\n",
    "plt.plot(np.linspace(0, 1, 200),\n",
    "         np.linspace(0, 1, 200),\n",
    "         label='baseline',\n",
    "         linestyle='--')\n",
    "\n",
    "# Label axes.\n",
    "# plt.title(f'ROC Curve with AUC = {round(roc_auc_score(pred_df['true_values'], pred_df['pred_probs']),3)}', fontsize=22)\n",
    "plt.ylabel('Sensitivity', fontsize=18)\n",
    "plt.xlabel('1 - Specificity', fontsize=18)\n",
    "\n",
    "# Create legend.\n",
    "plt.legend(fontsize=16);"
   ]
  },
  {
   "cell_type": "markdown",
   "metadata": {},
   "source": [
    "## Predict, evaluate, and score the best model"
   ]
  },
  {
   "cell_type": "markdown",
   "metadata": {},
   "source": [
    "### Apply SMOTE to the best model - , GradientBoosting, Tfidf Vectorizer"
   ]
  },
  {
   "cell_type": "code",
   "execution_count": 48,
   "metadata": {},
   "outputs": [
    {
     "name": "stdout",
     "output_type": "stream",
     "text": [
      "Before OverSampling, counts of label '1': 262\n",
      "Before OverSampling, counts of label '0': 5507 \n",
      "\n"
     ]
    }
   ],
   "source": [
    "# from https://www.kaggle.com/qianchao/smote-with-imbalance-data    \n",
    "print(\"Before OverSampling, counts of label '1': {}\".format(sum(y_train==1)))\n",
    "print(\"Before OverSampling, counts of label '0': {} \\n\".format(sum(y_train==0)))"
   ]
  },
  {
   "cell_type": "code",
   "execution_count": 49,
   "metadata": {},
   "outputs": [],
   "source": [
    "# Instantiate TfidfVectorizer\n",
    "tvec = TfidfVectorizer(stop_words=my_stop_words, ngram_range=(1,2), max_features=5_000)   \n",
    "\n",
    "gb_Smote =GradientBoostingClassifier(\n",
    "                        learning_rate=0.1, max_depth=3, min_samples_leaf=1,\n",
    "                        min_samples_split=2, n_estimators=100)\n",
    "\n",
    "sm = SMOTE(kind='regular', sampling_strategy=0.9, k_neighbors=7)"
   ]
  },
  {
   "cell_type": "code",
   "execution_count": 50,
   "metadata": {},
   "outputs": [],
   "source": [
    "#1 Fit and transform Count Vectorizer\n",
    "tvec_words = pd.DataFrame(tvec.fit_transform(X_train['text']).toarray(), columns=tvec.get_feature_names())"
   ]
  },
  {
   "cell_type": "code",
   "execution_count": 51,
   "metadata": {},
   "outputs": [],
   "source": [
    "#2 Fit SMOTE\n",
    "X_train_res, y_train_res = sm.fit_sample(tvec_words, y_train.ravel())\n",
    "# X_train_res, y_train_res = sm.fit_sample(tvec_words, y_train.ravel())"
   ]
  },
  {
   "cell_type": "code",
   "execution_count": 52,
   "metadata": {
    "scrolled": true
   },
   "outputs": [
    {
     "data": {
      "text/plain": [
       "(10463, 5000)"
      ]
     },
     "execution_count": 52,
     "metadata": {},
     "output_type": "execute_result"
    }
   ],
   "source": [
    "X_train_res.shape"
   ]
  },
  {
   "cell_type": "code",
   "execution_count": 53,
   "metadata": {},
   "outputs": [
    {
     "data": {
      "text/plain": [
       "10463"
      ]
     },
     "execution_count": 53,
     "metadata": {},
     "output_type": "execute_result"
    }
   ],
   "source": [
    "len(y_train_res)"
   ]
  },
  {
   "cell_type": "code",
   "execution_count": 54,
   "metadata": {},
   "outputs": [
    {
     "data": {
      "text/plain": [
       "GradientBoostingClassifier(criterion='friedman_mse', init=None,\n",
       "              learning_rate=0.1, loss='deviance', max_depth=3,\n",
       "              max_features=None, max_leaf_nodes=None,\n",
       "              min_impurity_decrease=0.0, min_impurity_split=None,\n",
       "              min_samples_leaf=1, min_samples_split=2,\n",
       "              min_weight_fraction_leaf=0.0, n_estimators=100,\n",
       "              n_iter_no_change=None, presort='auto', random_state=None,\n",
       "              subsample=1.0, tol=0.0001, validation_fraction=0.1,\n",
       "              verbose=0, warm_start=False)"
      ]
     },
     "execution_count": 54,
     "metadata": {},
     "output_type": "execute_result"
    }
   ],
   "source": [
    "#3 Fit Gradient Boosting\n",
    "gb_Smote.fit(X_train_res, y_train_res)"
   ]
  },
  {
   "cell_type": "code",
   "execution_count": 59,
   "metadata": {},
   "outputs": [],
   "source": [
    "#export final tvec and gb model using pickle\n",
    "import pickle\n",
    "filename = './gb_model.sav'\n",
    "pickle.dump(gb_Smote, open(filename, 'wb'))"
   ]
  },
  {
   "cell_type": "code",
   "execution_count": 60,
   "metadata": {},
   "outputs": [],
   "source": [
    "filename = './tvec.sav'\n",
    "pickle.dump(tvec, open(filename, 'wb'))"
   ]
  },
  {
   "cell_type": "code",
   "execution_count": 55,
   "metadata": {},
   "outputs": [
    {
     "name": "stdout",
     "output_type": "stream",
     "text": [
      "After OverSampling, the shape of train_X: (10463, 5000)\n",
      "After OverSampling, the shape of train_y: (10463,) \n",
      "\n",
      "After OverSampling, counts of label '1': 4956\n",
      "After OverSampling, counts of label '0': 5507\n"
     ]
    }
   ],
   "source": [
    "print('After OverSampling, the shape of train_X: {}'.format(X_train_res.shape))\n",
    "print('After OverSampling, the shape of train_y: {} \\n'.format(y_train_res.shape))\n",
    "\n",
    "print(\"After OverSampling, counts of label '1': {}\".format(sum(y_train_res==1)))\n",
    "print(\"After OverSampling, counts of label '0': {}\".format(sum(y_train_res==0)))\n"
   ]
  },
  {
   "cell_type": "code",
   "execution_count": 56,
   "metadata": {},
   "outputs": [],
   "source": [
    "# 4 Transform X_test\n",
    "X_test_tvec = tvec.transform(X_test['text'])"
   ]
  },
  {
   "cell_type": "code",
   "execution_count": 57,
   "metadata": {},
   "outputs": [
    {
     "data": {
      "text/plain": [
       "0.9797297297297297"
      ]
     },
     "execution_count": 57,
     "metadata": {},
     "output_type": "execute_result"
    }
   ],
   "source": [
    "# Score model\n",
    "gb_Smote.score(X_test_tvec, y_test)"
   ]
  },
  {
   "cell_type": "markdown",
   "metadata": {},
   "source": [
    "#### Print confusion matrix"
   ]
  },
  {
   "cell_type": "code",
   "execution_count": 58,
   "metadata": {
    "scrolled": true
   },
   "outputs": [
    {
     "name": "stdout",
     "output_type": "stream",
     "text": [
      "ROC AUC score: 0.9510602619212984\n"
     ]
    },
    {
     "data": {
      "image/png": "[encoded data removed]",
      "text/plain": [
       "<Figure size 432x288 with 2 Axes>"
      ]
     },
     "metadata": {
      "needs_background": "light"
     },
     "output_type": "display_data"
    }
   ],
   "source": [
    "model_name = gb_Smote\n",
    "\n",
    "# Generate predictions\n",
    "y_pred = (model_name.predict(X_test_tvec)) \n",
    "y_test.shape\n",
    "y_pred.shape\n",
    "\n",
    "# Calculate ROC AUC and Accuracy scores\n",
    "print(f\"ROC AUC score: {roc_auc_score(y_test, y_pred)}\")\n",
    "\n",
    "# # Plot confusion matrix\n",
    "plt.figure()\n",
    "cm = confusion_matrix(y_test, y_pred)\n",
    "plot_confusion_matrix(cm, ['not_road_closure','is_road_closure']);"
   ]
  },
  {
   "cell_type": "markdown",
   "metadata": {},
   "source": [
    "#### Plot ROC AUC curve"
   ]
  },
  {
   "cell_type": "code",
   "execution_count": null,
   "metadata": {},
   "outputs": [],
   "source": [
    "##### calculate predicted probabilities\n",
    "pred_proba = [i[1] for i in Log_Reg_Smote.predict_proba(X_test_tvec)]\n",
    "\n",
    "pred_df = pd.DataFrame({'true_values': y_test,\n",
    "                        'pred_probs':pred_proba})\n",
    "    \n",
    "# Calculate sensitivity & 1-specificity for each threshold between 0 and 1.\n",
    "tpr_values = [TPR(pred_df, 'true_values', 'pred_probs', prob) for prob in thresholds]\n",
    "fpr_values = [FPR(pred_df, 'true_values', 'pred_probs', prob) for prob in thresholds]\n",
    "\n",
    "# Plot ROC curve.\n",
    "plt.plot(fpr_values, # False Positive Rate on X-axis\n",
    "         tpr_values, # True Positive Rate on Y-axis\n",
    "         label='ROC Curve')\n",
    "\n",
    "# Plot baseline. (Perfect overlap between the two populations.)\n",
    "plt.plot(np.linspace(0, 1, 200),\n",
    "         np.linspace(0, 1, 200),\n",
    "         label='baseline',\n",
    "         linestyle='--')\n",
    "\n",
    "# Label axes.\n",
    "# plt.title(f'ROC Curve with AUC = {round(roc_auc_score(pred_df['true_values'], pred_df['pred_probs']),3)}', fontsize=22)\n",
    "plt.ylabel('Sensitivity', fontsize=18)\n",
    "plt.xlabel('1 - Specificity', fontsize=18)\n",
    "\n",
    "# Create legend.\n",
    "plt.legend(fontsize=16);"
   ]
  },
  {
   "cell_type": "markdown",
   "metadata": {},
   "source": [
    "#### Validate on live tweets"
   ]
  },
  {
   "cell_type": "code",
   "execution_count": null,
   "metadata": {},
   "outputs": [],
   "source": [
    "# read test file\n",
    "data_test = pd.read_csv ('./Live Twitter Scraping/third_live_tweet_test.csv')"
   ]
  },
  {
   "cell_type": "code",
   "execution_count": null,
   "metadata": {},
   "outputs": [],
   "source": [
    "data_test.shape"
   ]
  },
  {
   "cell_type": "code",
   "execution_count": null,
   "metadata": {},
   "outputs": [],
   "source": [
    "data_test.head()"
   ]
  },
  {
   "cell_type": "code",
   "execution_count": null,
   "metadata": {},
   "outputs": [],
   "source": [
    "# split date into date and time\n",
    "data_test['time'] = data_test['time'].map(lambda x: str(x.split('+')[0]))\n",
    "\n",
    "# convert object to datetime object\n",
    "data_test['time'] = pd.to_datetime(data_test['time'])"
   ]
  },
  {
   "cell_type": "code",
   "execution_count": null,
   "metadata": {},
   "outputs": [],
   "source": [
    "# drop columns 'Unnamed: 0 'and 'geo'; geo has all null values; hashtags has 50% null values\n",
    "data_test.drop(columns = ['Unnamed: 0', 'id', 'time', 'place'], inplace=True)"
   ]
  },
  {
   "cell_type": "code",
   "execution_count": null,
   "metadata": {},
   "outputs": [],
   "source": [
    "# Change case of all words to lower\n",
    "data_test['text'] = [i.lower() for i in data_test['text']]"
   ]
  },
  {
   "cell_type": "code",
   "execution_count": null,
   "metadata": {},
   "outputs": [],
   "source": [
    "# Remove references to indvidual accounts starting with @\n",
    "data_test['text'] = [re.sub(r'@[A-z0-9]*', r' ', i) \n",
    "                    for i in data_test['text']];"
   ]
  },
  {
   "cell_type": "code",
   "execution_count": null,
   "metadata": {},
   "outputs": [],
   "source": [
    "# Use Regular Expressions to remove all punctuations \n",
    "data_test['text'] = [re.sub('[^A-Za-z0-9#]+', ' ', i) \n",
    "                    for i in data_test['text']];"
   ]
  },
  {
   "cell_type": "code",
   "execution_count": null,
   "metadata": {},
   "outputs": [],
   "source": [
    "# Drop duplicates\n",
    "data_test.drop_duplicates(subset=['text'],inplace=True )"
   ]
  },
  {
   "cell_type": "code",
   "execution_count": null,
   "metadata": {},
   "outputs": [],
   "source": [
    "# Initialize Lemmatizer\n",
    "lm = WordNetLemmatizer()"
   ]
  },
  {
   "cell_type": "code",
   "execution_count": null,
   "metadata": {},
   "outputs": [],
   "source": [
    "# Lemmatize the string and then join it back\n",
    "data_test['text'] = [\" \".join([lm.lemmatize(w) for w in i.split()]) \n",
    "                   for i in data_test['text']];"
   ]
  },
  {
   "cell_type": "code",
   "execution_count": null,
   "metadata": {},
   "outputs": [],
   "source": [
    "data_test['y_pred_filter'] = data_test['text'].map(lambda x: 1 if ((any(word in x for word in word_list1))\n",
    "                                                           & (any(word in x for word in word_list2))\n",
    "                                                           & (not any(word in x for word in not_word_list))\n",
    "                                                          ) else 0)\n"
   ]
  },
  {
   "cell_type": "code",
   "execution_count": null,
   "metadata": {},
   "outputs": [],
   "source": [
    "data_test['y_pred_filter'].value_counts()"
   ]
  },
  {
   "cell_type": "code",
   "execution_count": null,
   "metadata": {},
   "outputs": [],
   "source": [
    "# Generate predictions\n",
    "data_test['y_pred'] = (Log_Reg_Smote.predict(data_test_tvec['text'])) "
   ]
  },
  {
   "cell_type": "code",
   "execution_count": null,
   "metadata": {},
   "outputs": [],
   "source": [
    "data_test['y_pred'].value_counts()"
   ]
  },
  {
   "cell_type": "code",
   "execution_count": null,
   "metadata": {},
   "outputs": [],
   "source": [
    "# write predictions to a csv file\n",
    "data_test.to_csv('./Preds_third_live_tweet_test04242019AM.csv', header = True)"
   ]
  },
  {
   "cell_type": "code",
   "execution_count": null,
   "metadata": {},
   "outputs": [],
   "source": []
  }
 ],
 "metadata": {
  "kernelspec": {
   "display_name": "Python 3",
   "language": "python",
   "name": "python3"
  },
  "language_info": {
   "codemirror_mode": {
    "name": "ipython",
    "version": 3
   },
   "file_extension": ".py",
   "mimetype": "text/x-python",
   "name": "python",
   "nbconvert_exporter": "python",
   "pygments_lexer": "ipython3",
   "version": "3.7.2"
  }
 },
 "nbformat": 4,
 "nbformat_minor": 2
}
